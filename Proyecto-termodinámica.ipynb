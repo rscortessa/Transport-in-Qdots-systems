{
 "cells": [
  {
   "cell_type": "markdown",
   "metadata": {},
   "source": [
    "## Solución atómica para el modelo de Anderson\n",
    "\n",
    "> En este pequeño notebook, se dará solución al modelo de anderson en el límite en el cual la banda de conducción colapsa a un estado."
   ]
  },
  {
   "cell_type": "code",
   "execution_count": 1,
   "metadata": {},
   "outputs": [],
   "source": [
    " #Autoestados\n",
    "import numpy as np\n",
    "import re\n",
    "import matplotlib.pyplot as plt\n",
    "import matplotlib.ticker as tk\n",
    "from leer_archivos import read_file\n",
    "from leer_archivos import LinearR2\n",
    "from leer_archivos import colores\n",
    "from leer_archivos import all_Maximos_ZT\n",
    "from leer_archivos import density_ZT\n",
    "import matplotlib\n"
   ]
  },
  {
   "cell_type": "markdown",
   "metadata": {},
   "source": [
    "### Lectura de archivos\n",
    "\n",
    "> Diferentes archivos fueron analizados en este trabajo, en las siguientes celdas se dara un overview sobre como extraer información sobre ellos\n",
    "\n",
    "##### Datos generales:\n",
    "> Los datos generales son un compendio de valores de las propiedades termoeléctricas para temperaturas entre 0.1 y 5.9 ($\\Delta$)"
   ]
  },
  {
   "cell_type": "code",
   "execution_count": 8,
   "metadata": {},
   "outputs": [],
   "source": [
    "## Al ejecutar esta celda, se obtiene la información de los datos de propiedades\n",
    "## termoeléctricas entre T=0.1 a 5.9\n",
    "Datos=[[] for i in range(59)]\n",
    "for i in range(1,60):\n",
    "    Datos[i-1]=read_file(\"./Complete DATA Between 0.1-5.9/DATA+\"+str(round((i+1)*0.1,1))+\".dat\",\"./Complete DATA Between 0.1-5.9/DATA-\"+str(round((i+1)*0.1,1))+\".dat\",19)\n",
    "    "
   ]
  },
  {
   "cell_type": "code",
   "execution_count": 9,
   "metadata": {},
   "outputs": [],
   "source": [
    "## Para realizar las gráficas se define una lista de etiquetas, correspodientes \n",
    "## al tipo de datos:\n",
    "labels=[r\"$E_{QD_1}$\",r\"Ajuste $E_{QD_1}$\",r\"Ajuste $E_{QD_2}$\",r\"$\\%_{QD_2}$\",\"$\\%_{QD_1}$\",r\"$G^2$\",\"S\",r\"$A_k$\",\"Figura de mérito Z\",\"WFR Wiedemann-Franz\",r\"$N_{QD_1}$\",r\"$N_{QD_2}$\",r\"$\\phi_{local}$\",r\"$\\phi_{QD_2}$\",r\"$\\phi_{QD_1}$\",r\"$\\phi_{eff}$\",\"Mahan Soho S\",\"Temperatura\",r\"$E_{QD_2}$\"]\n"
   ]
  },
  {
   "cell_type": "markdown",
   "metadata": {},
   "source": [
    "\\begin{matrix}\n",
    "Parámetro & E_{QD_1} & Ajuste E_{QD_1} & Ajuste E_{QD_2} & \\%_{QD_2} & \\%_{QD_1} & G^2 & S &  A_k & Merit\\; Figure\\;Z & WFR \\\\\n",
    "Número & 0 & 1 & 2 & 3 & 4 & 5 & 6 & 7 & 8 & 9 \\\\\n",
    "\\end{matrix}\n",
    "\\begin{matrix}\n",
    " N_{ocup 1D} & N_{ocup 2D} & \\delta_{local\\;G.F} & \\delta_{QD_2} & \\delta_{QD_1} & \\delta_{eff} & \\;Mahan\\;Soho\\; &  T & E_{QD_2} \\\\\n",
    "10 & 11 & 12 & 13 & 14 & 15 & 16 & 17 & 18 \\\\\n",
    "\\end{matrix}\n"
   ]
  },
  {
   "cell_type": "code",
   "execution_count": 12,
   "metadata": {},
   "outputs": [
    {
     "name": "stdout",
     "output_type": "stream",
     "text": [
      "Eje x: 0\n",
      "Eje y: 4\n"
     ]
    }
   ],
   "source": [
    "## En esta celda se decide que parámetros ejecutar:\n",
    "i=int(input(\"Eje x: \"))\n",
    "j=int(input(\"Eje y: \"))\n",
    "## Aqui una pequeña condición sobre que datos graficar de toda la lista\n",
    "## basados en su índice de la lista m equivalente a la (Temperatura):\n",
    "def condicion(m):\n",
    "    return (m+1)%20==0\n",
    "#    return x<m<y\n",
    "#    return m%n==0\n",
    "#    return m=n\n"
   ]
  },
  {
   "cell_type": "code",
   "execution_count": 13,
   "metadata": {
    "scrolled": true
   },
   "outputs": [
    {
     "data": {
      "image/png": "[encoded data removed]",
      "text/plain": [
       "<Figure size 576x396 with 1 Axes>"
      ]
     },
     "metadata": {},
     "output_type": "display_data"
    },
    {
     "ename": "FileNotFoundError",
     "evalue": "[Errno 2] No such file or directory: '$\\\\omega/\\\\Delta$vs$\\\\rho_{cond\\\\quad\\\\omega}$.png'",
     "output_type": "error",
     "traceback": [
      "\u001b[0;31m---------------------------------------------------------------------------\u001b[0m",
      "\u001b[0;31mFileNotFoundError\u001b[0m                         Traceback (most recent call last)",
      "\u001b[0;32m<ipython-input-13-62b5ac739b45>\u001b[0m in \u001b[0;36m<module>\u001b[0;34m\u001b[0m\n\u001b[1;32m     21\u001b[0m \u001b[0mplt\u001b[0m\u001b[0;34m.\u001b[0m\u001b[0mlegend\u001b[0m\u001b[0;34m(\u001b[0m\u001b[0;34m)\u001b[0m\u001b[0;34m\u001b[0m\u001b[0;34m\u001b[0m\u001b[0m\n\u001b[1;32m     22\u001b[0m \u001b[0mplt\u001b[0m\u001b[0;34m.\u001b[0m\u001b[0mshow\u001b[0m\u001b[0;34m(\u001b[0m\u001b[0;34m)\u001b[0m\u001b[0;34m\u001b[0m\u001b[0;34m\u001b[0m\u001b[0m\n\u001b[0;32m---> 23\u001b[0;31m \u001b[0mplt\u001b[0m\u001b[0;34m.\u001b[0m\u001b[0msavefig\u001b[0m\u001b[0;34m(\u001b[0m\u001b[0mlabels\u001b[0m\u001b[0;34m[\u001b[0m\u001b[0mi\u001b[0m\u001b[0;34m]\u001b[0m\u001b[0;34m+\u001b[0m\u001b[0;34m\"vs\"\u001b[0m\u001b[0;34m+\u001b[0m\u001b[0mlabels\u001b[0m\u001b[0;34m[\u001b[0m\u001b[0mj\u001b[0m\u001b[0;34m]\u001b[0m\u001b[0;34m+\u001b[0m\u001b[0;34m\".png\"\u001b[0m\u001b[0;34m)\u001b[0m\u001b[0;34m\u001b[0m\u001b[0;34m\u001b[0m\u001b[0m\n\u001b[0m",
      "\u001b[0;32m~/anaconda3/lib/python3.8/site-packages/matplotlib/pyplot.py\u001b[0m in \u001b[0;36msavefig\u001b[0;34m(*args, **kwargs)\u001b[0m\n\u001b[1;32m    857\u001b[0m \u001b[0;32mdef\u001b[0m \u001b[0msavefig\u001b[0m\u001b[0;34m(\u001b[0m\u001b[0;34m*\u001b[0m\u001b[0margs\u001b[0m\u001b[0;34m,\u001b[0m \u001b[0;34m**\u001b[0m\u001b[0mkwargs\u001b[0m\u001b[0;34m)\u001b[0m\u001b[0;34m:\u001b[0m\u001b[0;34m\u001b[0m\u001b[0;34m\u001b[0m\u001b[0m\n\u001b[1;32m    858\u001b[0m     \u001b[0mfig\u001b[0m \u001b[0;34m=\u001b[0m \u001b[0mgcf\u001b[0m\u001b[0;34m(\u001b[0m\u001b[0;34m)\u001b[0m\u001b[0;34m\u001b[0m\u001b[0;34m\u001b[0m\u001b[0m\n\u001b[0;32m--> 859\u001b[0;31m     \u001b[0mres\u001b[0m \u001b[0;34m=\u001b[0m \u001b[0mfig\u001b[0m\u001b[0;34m.\u001b[0m\u001b[0msavefig\u001b[0m\u001b[0;34m(\u001b[0m\u001b[0;34m*\u001b[0m\u001b[0margs\u001b[0m\u001b[0;34m,\u001b[0m \u001b[0;34m**\u001b[0m\u001b[0mkwargs\u001b[0m\u001b[0;34m)\u001b[0m\u001b[0;34m\u001b[0m\u001b[0;34m\u001b[0m\u001b[0m\n\u001b[0m\u001b[1;32m    860\u001b[0m     \u001b[0mfig\u001b[0m\u001b[0;34m.\u001b[0m\u001b[0mcanvas\u001b[0m\u001b[0;34m.\u001b[0m\u001b[0mdraw_idle\u001b[0m\u001b[0;34m(\u001b[0m\u001b[0;34m)\u001b[0m   \u001b[0;31m# need this if 'transparent=True' to reset colors\u001b[0m\u001b[0;34m\u001b[0m\u001b[0;34m\u001b[0m\u001b[0m\n\u001b[1;32m    861\u001b[0m     \u001b[0;32mreturn\u001b[0m \u001b[0mres\u001b[0m\u001b[0;34m\u001b[0m\u001b[0;34m\u001b[0m\u001b[0m\n",
      "\u001b[0;32m~/anaconda3/lib/python3.8/site-packages/matplotlib/figure.py\u001b[0m in \u001b[0;36msavefig\u001b[0;34m(self, fname, transparent, **kwargs)\u001b[0m\n\u001b[1;32m   2309\u001b[0m                 \u001b[0mpatch\u001b[0m\u001b[0;34m.\u001b[0m\u001b[0mset_edgecolor\u001b[0m\u001b[0;34m(\u001b[0m\u001b[0;34m'none'\u001b[0m\u001b[0;34m)\u001b[0m\u001b[0;34m\u001b[0m\u001b[0;34m\u001b[0m\u001b[0m\n\u001b[1;32m   2310\u001b[0m \u001b[0;34m\u001b[0m\u001b[0m\n\u001b[0;32m-> 2311\u001b[0;31m         \u001b[0mself\u001b[0m\u001b[0;34m.\u001b[0m\u001b[0mcanvas\u001b[0m\u001b[0;34m.\u001b[0m\u001b[0mprint_figure\u001b[0m\u001b[0;34m(\u001b[0m\u001b[0mfname\u001b[0m\u001b[0;34m,\u001b[0m \u001b[0;34m**\u001b[0m\u001b[0mkwargs\u001b[0m\u001b[0;34m)\u001b[0m\u001b[0;34m\u001b[0m\u001b[0;34m\u001b[0m\u001b[0m\n\u001b[0m\u001b[1;32m   2312\u001b[0m \u001b[0;34m\u001b[0m\u001b[0m\n\u001b[1;32m   2313\u001b[0m         \u001b[0;32mif\u001b[0m \u001b[0mtransparent\u001b[0m\u001b[0;34m:\u001b[0m\u001b[0;34m\u001b[0m\u001b[0;34m\u001b[0m\u001b[0m\n",
      "\u001b[0;32m~/anaconda3/lib/python3.8/site-packages/matplotlib/backend_bases.py\u001b[0m in \u001b[0;36mprint_figure\u001b[0;34m(self, filename, dpi, facecolor, edgecolor, orientation, format, bbox_inches, pad_inches, bbox_extra_artists, backend, **kwargs)\u001b[0m\n\u001b[1;32m   2208\u001b[0m \u001b[0;34m\u001b[0m\u001b[0m\n\u001b[1;32m   2209\u001b[0m             \u001b[0;32mtry\u001b[0m\u001b[0;34m:\u001b[0m\u001b[0;34m\u001b[0m\u001b[0;34m\u001b[0m\u001b[0m\n\u001b[0;32m-> 2210\u001b[0;31m                 result = print_method(\n\u001b[0m\u001b[1;32m   2211\u001b[0m                     \u001b[0mfilename\u001b[0m\u001b[0;34m,\u001b[0m\u001b[0;34m\u001b[0m\u001b[0;34m\u001b[0m\u001b[0m\n\u001b[1;32m   2212\u001b[0m                     \u001b[0mdpi\u001b[0m\u001b[0;34m=\u001b[0m\u001b[0mdpi\u001b[0m\u001b[0;34m,\u001b[0m\u001b[0;34m\u001b[0m\u001b[0;34m\u001b[0m\u001b[0m\n",
      "\u001b[0;32m~/anaconda3/lib/python3.8/site-packages/matplotlib/backend_bases.py\u001b[0m in \u001b[0;36mwrapper\u001b[0;34m(*args, **kwargs)\u001b[0m\n\u001b[1;32m   1637\u001b[0m             \u001b[0mkwargs\u001b[0m\u001b[0;34m.\u001b[0m\u001b[0mpop\u001b[0m\u001b[0;34m(\u001b[0m\u001b[0marg\u001b[0m\u001b[0;34m)\u001b[0m\u001b[0;34m\u001b[0m\u001b[0;34m\u001b[0m\u001b[0m\n\u001b[1;32m   1638\u001b[0m \u001b[0;34m\u001b[0m\u001b[0m\n\u001b[0;32m-> 1639\u001b[0;31m         \u001b[0;32mreturn\u001b[0m \u001b[0mfunc\u001b[0m\u001b[0;34m(\u001b[0m\u001b[0;34m*\u001b[0m\u001b[0margs\u001b[0m\u001b[0;34m,\u001b[0m \u001b[0;34m**\u001b[0m\u001b[0mkwargs\u001b[0m\u001b[0;34m)\u001b[0m\u001b[0;34m\u001b[0m\u001b[0;34m\u001b[0m\u001b[0m\n\u001b[0m\u001b[1;32m   1640\u001b[0m \u001b[0;34m\u001b[0m\u001b[0m\n\u001b[1;32m   1641\u001b[0m     \u001b[0;32mreturn\u001b[0m \u001b[0mwrapper\u001b[0m\u001b[0;34m\u001b[0m\u001b[0;34m\u001b[0m\u001b[0m\n",
      "\u001b[0;32m~/anaconda3/lib/python3.8/site-packages/matplotlib/backends/backend_agg.py\u001b[0m in \u001b[0;36mprint_png\u001b[0;34m(self, filename_or_obj, metadata, pil_kwargs, *args)\u001b[0m\n\u001b[1;32m    508\u001b[0m         \"\"\"\n\u001b[1;32m    509\u001b[0m         \u001b[0mFigureCanvasAgg\u001b[0m\u001b[0;34m.\u001b[0m\u001b[0mdraw\u001b[0m\u001b[0;34m(\u001b[0m\u001b[0mself\u001b[0m\u001b[0;34m)\u001b[0m\u001b[0;34m\u001b[0m\u001b[0;34m\u001b[0m\u001b[0m\n\u001b[0;32m--> 510\u001b[0;31m         mpl.image.imsave(\n\u001b[0m\u001b[1;32m    511\u001b[0m             \u001b[0mfilename_or_obj\u001b[0m\u001b[0;34m,\u001b[0m \u001b[0mself\u001b[0m\u001b[0;34m.\u001b[0m\u001b[0mbuffer_rgba\u001b[0m\u001b[0;34m(\u001b[0m\u001b[0;34m)\u001b[0m\u001b[0;34m,\u001b[0m \u001b[0mformat\u001b[0m\u001b[0;34m=\u001b[0m\u001b[0;34m\"png\"\u001b[0m\u001b[0;34m,\u001b[0m \u001b[0morigin\u001b[0m\u001b[0;34m=\u001b[0m\u001b[0;34m\"upper\"\u001b[0m\u001b[0;34m,\u001b[0m\u001b[0;34m\u001b[0m\u001b[0;34m\u001b[0m\u001b[0m\n\u001b[1;32m    512\u001b[0m             dpi=self.figure.dpi, metadata=metadata, pil_kwargs=pil_kwargs)\n",
      "\u001b[0;32m~/anaconda3/lib/python3.8/site-packages/matplotlib/image.py\u001b[0m in \u001b[0;36mimsave\u001b[0;34m(fname, arr, vmin, vmax, cmap, format, origin, dpi, metadata, pil_kwargs)\u001b[0m\n\u001b[1;32m   1603\u001b[0m         \u001b[0mpil_kwargs\u001b[0m\u001b[0;34m.\u001b[0m\u001b[0msetdefault\u001b[0m\u001b[0;34m(\u001b[0m\u001b[0;34m\"format\"\u001b[0m\u001b[0;34m,\u001b[0m \u001b[0mformat\u001b[0m\u001b[0;34m)\u001b[0m\u001b[0;34m\u001b[0m\u001b[0;34m\u001b[0m\u001b[0m\n\u001b[1;32m   1604\u001b[0m         \u001b[0mpil_kwargs\u001b[0m\u001b[0;34m.\u001b[0m\u001b[0msetdefault\u001b[0m\u001b[0;34m(\u001b[0m\u001b[0;34m\"dpi\"\u001b[0m\u001b[0;34m,\u001b[0m \u001b[0;34m(\u001b[0m\u001b[0mdpi\u001b[0m\u001b[0;34m,\u001b[0m \u001b[0mdpi\u001b[0m\u001b[0;34m)\u001b[0m\u001b[0;34m)\u001b[0m\u001b[0;34m\u001b[0m\u001b[0;34m\u001b[0m\u001b[0m\n\u001b[0;32m-> 1605\u001b[0;31m         \u001b[0mimage\u001b[0m\u001b[0;34m.\u001b[0m\u001b[0msave\u001b[0m\u001b[0;34m(\u001b[0m\u001b[0mfname\u001b[0m\u001b[0;34m,\u001b[0m \u001b[0;34m**\u001b[0m\u001b[0mpil_kwargs\u001b[0m\u001b[0;34m)\u001b[0m\u001b[0;34m\u001b[0m\u001b[0;34m\u001b[0m\u001b[0m\n\u001b[0m\u001b[1;32m   1606\u001b[0m \u001b[0;34m\u001b[0m\u001b[0m\n\u001b[1;32m   1607\u001b[0m \u001b[0;34m\u001b[0m\u001b[0m\n",
      "\u001b[0;32m~/anaconda3/lib/python3.8/site-packages/PIL/Image.py\u001b[0m in \u001b[0;36msave\u001b[0;34m(self, fp, format, **params)\u001b[0m\n\u001b[1;32m   2146\u001b[0m                 \u001b[0mfp\u001b[0m \u001b[0;34m=\u001b[0m \u001b[0mbuiltins\u001b[0m\u001b[0;34m.\u001b[0m\u001b[0mopen\u001b[0m\u001b[0;34m(\u001b[0m\u001b[0mfilename\u001b[0m\u001b[0;34m,\u001b[0m \u001b[0;34m\"r+b\"\u001b[0m\u001b[0;34m)\u001b[0m\u001b[0;34m\u001b[0m\u001b[0;34m\u001b[0m\u001b[0m\n\u001b[1;32m   2147\u001b[0m             \u001b[0;32melse\u001b[0m\u001b[0;34m:\u001b[0m\u001b[0;34m\u001b[0m\u001b[0;34m\u001b[0m\u001b[0m\n\u001b[0;32m-> 2148\u001b[0;31m                 \u001b[0mfp\u001b[0m \u001b[0;34m=\u001b[0m \u001b[0mbuiltins\u001b[0m\u001b[0;34m.\u001b[0m\u001b[0mopen\u001b[0m\u001b[0;34m(\u001b[0m\u001b[0mfilename\u001b[0m\u001b[0;34m,\u001b[0m \u001b[0;34m\"w+b\"\u001b[0m\u001b[0;34m)\u001b[0m\u001b[0;34m\u001b[0m\u001b[0;34m\u001b[0m\u001b[0m\n\u001b[0m\u001b[1;32m   2149\u001b[0m \u001b[0;34m\u001b[0m\u001b[0m\n\u001b[1;32m   2150\u001b[0m         \u001b[0;32mtry\u001b[0m\u001b[0;34m:\u001b[0m\u001b[0;34m\u001b[0m\u001b[0;34m\u001b[0m\u001b[0m\n",
      "\u001b[0;31mFileNotFoundError\u001b[0m: [Errno 2] No such file or directory: '$\\\\omega/\\\\Delta$vs$\\\\rho_{cond\\\\quad\\\\omega}$.png'"
     ]
    },
    {
     "data": {
      "text/plain": [
       "<Figure size 576x396 with 0 Axes>"
      ]
     },
     "metadata": {},
     "output_type": "display_data"
    }
   ],
   "source": [
    "plt.figure()\n",
    "plt.style.use(\"seaborn\")\n",
    "cmap = matplotlib.cm.get_cmap('Set2')\n",
    "# mapas: tab20, viridis, Dark2, Accent, Paired\n",
    "colors=colores()\n",
    "for m in reversed(range(0,59)):\n",
    "    x=Datos[m][i]\n",
    "    y=Datos[m][j]\n",
    "    #if(j==15):\n",
    "    #    for a in range(len(y)):\n",
    "    #        y[a]= np.cos(2*np.pi*y[a])\n",
    "    #plt.plot(x,y,color='black',label=labels[i]+\" vs \"+labels[j])\n",
    "    if (condicion(m)):\n",
    "        plt.scatter(x,y,color=cmap(m/59.0),label=r\"$T=$\"+str(round((m+1)/10,1))+\"$\\Delta$\")\n",
    "plt.xlabel(labels[i])\n",
    "plt.ylabel(labels[j])\n",
    "## Escalas \n",
    "#plt.semilogy()\n",
    "## Colocar límites\n",
    "#plt.xlim([-40,20])\n",
    "plt.legend()\n",
    "plt.show()\n",
    "plt.savefig(labels[i]+\"vs\"+labels[j]+\".png\")\n"
   ]
  },
  {
   "cell_type": "markdown",
   "metadata": {},
   "source": [
    "#### Análisis de los máximos en ZT\n",
    "> Las siguientes lineas de código detallan el análisis de los máximos obtenidos para cada temperatura de la figura de mérito:\n",
    "##### Gráfica:"
   ]
  },
  {
   "cell_type": "code",
   "execution_count": 14,
   "metadata": {},
   "outputs": [
    {
     "data": {
      "text/plain": [
       "<matplotlib.colorbar.Colorbar at 0x7fd251ead310>"
      ]
     },
     "execution_count": 14,
     "metadata": {},
     "output_type": "execute_result"
    },
    {
     "data": {
      "image/png": "[encoded data removed]",
      "text/plain": [
       "<Figure size 576x396 with 2 Axes>"
      ]
     },
     "metadata": {},
     "output_type": "display_data"
    }
   ],
   "source": [
    "## Se crea la lista de temperaturas junto con los máximos:\n",
    "T=[round((i+1)/10,1) for i in range(59)]\n",
    "ZTES=all_Maximos_ZT(T,Datos,-10)\n",
    "## Los datos obtenidos del paso anterior son graficados:\n",
    "plt.scatter(ZTES[0,:],ZTES[1,:],c=ZTES[3,:],cmap='viridis',label=r\"$Máximo\\quad E_{q}\\quad vs T$\")\n",
    "plt.scatter(ZTES[0,:],ZTES[2,:],c=ZTES[3,:],cmap='viridis',label=r\"$Máximo\\quad E_{q}\\quad vs T$\")\n",
    "plt.xlabel(r\"T\")\n",
    "plt.ylabel(r\"$Max\\quad E_{q}$\")\n",
    "plt.colorbar()"
   ]
  },
  {
   "cell_type": "markdown",
   "metadata": {},
   "source": [
    "#### Gráfico de densidad:"
   ]
  },
  {
   "cell_type": "code",
   "execution_count": 2,
   "metadata": {},
   "outputs": [
    {
     "name": "stdout",
     "output_type": "stream",
     "text": [
      "48 600 600\n"
     ]
    },
    {
     "data": {
      "image/png": "[encoded data removed]",
      "text/plain": [
       "<Figure size 432x288 with 2 Axes>"
      ]
     },
     "metadata": {
      "needs_background": "light"
     },
     "output_type": "display_data"
    }
   ],
   "source": [
    "## Se crea un nuervo archivo Datos conteniendo lso puntos para T>1.0\n",
    "Datos=[[] for i in range(50)]\n",
    "for i in range(10,60):\n",
    "    Datos[i-10]=read_file(\"./Complete DATA Between 0.1-5.9/DATA+\"+str(round((i+1)*0.1,1))+\".dat\",\"./Complete DATA Between 0.1-5.9/DATA-\"+str(round((i+1)*0.1,1))+\".dat\",19)\n",
    "## Se calcula el conjunto de datos a graficar:\n",
    "T=[round((i+1)/10,1) for i in range(11,59)]\n",
    "ZTES=all_Maximos_ZT(T,Datos,-10)\n",
    "## La función density_ZT genera la malla de valores a graficar:\n",
    "density_zt=density_ZT(T,Datos)\n",
    "## Inicio de la gráfica:\n",
    "plt.title(\"Densidad ZT\")\n",
    "plt.scatter(density_zt[0,:],density_zt[1,:],c=density_zt[2,:],cmap='viridis',marker=\"s\",label=r\"$E_{q}\\quad vs T$\")\n",
    "plt.xlabel(r\"T\")\n",
    "plt.ylabel(r\"$E_{q}$\")\n",
    "plt.colorbar(label=\"ZT\")\n",
    "plt.savefig(\"Density_ZT.pdf\")"
   ]
  },
  {
   "cell_type": "markdown",
   "metadata": {},
   "source": [
    "#### Regresión lineal"
   ]
  },
  {
   "cell_type": "code",
   "execution_count": 3,
   "metadata": {},
   "outputs": [
    {
     "name": "stdout",
     "output_type": "stream",
     "text": [
      "REGRESIONES LINEALES\n",
      "y=mx+b \n",
      " m= 6.406232527887537 \\pm 0.06943797552584714 \n",
      " b= -4.394160033584097 \\pm 0.2646094086712262 \n",
      " R^2 0.9946246622248525\n",
      "y=mx+b \n",
      " m= -6.406232527887535 \\pm 0.06943797552584707 \n",
      " b= -15.605839966415912 \\pm 0.26460940867122595 \n",
      " R^2 0.9946246622248525\n"
     ]
    },
    {
     "data": {
      "image/png": "[encoded data removed]",
      "text/plain": [
       "<Figure size 432x288 with 2 Axes>"
      ]
     },
     "metadata": {
      "needs_background": "light"
     },
     "output_type": "display_data"
    }
   ],
   "source": [
    "## Se generan los conjuntos de datos para la regresión:\n",
    "TR = np.array(ZTES[0,:]).reshape((-1,1))\n",
    "Emas = np.array(ZTES[1,:])\n",
    "Emenos=np.array(ZTES[2,:])\n",
    "## LinearR2 es la función utilizada para hacer dicho ajuste lineal\n",
    "LR_1=LinearR2(TR,Emas)\n",
    "LR_2=LinearR2(TR,Emenos)\n",
    "Y1=LR_1[2]*TR+LR_1[0]\n",
    "Y2=LR_2[2]*TR+LR_2[0]\n",
    "## Comienzo de la gráfica:\n",
    "plt.figure()\n",
    "plt.title(\"Ajustes\")\n",
    "plt.scatter(ZTES[0,:],ZTES[1,:],c=ZTES[3,:],cmap='viridis',label=r\"$Máximo\\quad E_{q}\\quad vs T$\")\n",
    "#plt.plot(ZTES[0,:],ZTES[1,:],color=\"red\",label=r\"$Máximo\\quad E_{q}\\quad vs T$\")\n",
    "plt.scatter(ZTES[0,:],ZTES[2,:],c=ZTES[3,:],cmap='viridis',label=r\"$Máximo\\quad E_{q}\\quad vs T$\")\n",
    "plt.plot(TR,Y1,c=\"blue\",label=r\"$fit$\")\n",
    "plt.plot(TR,Y2,c=\"red\",label=r\"$fit$\")\n",
    "plt.xlabel(r\"T\")\n",
    "plt.ylabel(r\"$E_{q}$\")\n",
    "plt.colorbar(label=\"ZT\")\n",
    "plt.legend()\n",
    "plt.savefig(\"Linear_fit_Density_ZT.pdf\")\n",
    "## Regresiones lineales encontradas\n",
    "print(\"REGRESIONES LINEALES\")\n",
    "print(r\"y=mx+b\",\"\\n\",\"m=\",LR_1[2],\"\\pm\",LR_1[3],\"\\n\",\"b=\",LR_1[0],\"\\pm\",LR_1[1],\"\\n\",\"R^2\",LR_1[4])\n",
    "print(r\"y=mx+b\",\"\\n\",\"m=\",LR_2[2],\"\\pm\",LR_2[3],\"\\n\",\"b=\",LR_2[0],\"\\pm\",LR_2[1],\"\\n\",\"R^2\",LR_2[4])"
   ]
  },
  {
   "cell_type": "code",
   "execution_count": null,
   "metadata": {},
   "outputs": [],
   "source": [
    "## Los máximos encontrados se pueden hallar ejecutando esta celda:\n",
    "for i in range(len(T)):\n",
    "    print(T[i],ZTES[1,i],ZTES[2,i])"
   ]
  },
  {
   "cell_type": "markdown",
   "metadata": {},
   "source": [
    "### Análisis del PES, la transmisión y la función de Green para los parámetros críticos\n",
    "\n",
    "> Un nuevo conjunto de datos es analizado; son los datos del PES, IPES, $T(\\omega)$ y la función de Green local y de conducción para diferentes energias."
   ]
  },
  {
   "cell_type": "code",
   "execution_count": 6,
   "metadata": {},
   "outputs": [
    {
     "name": "stdout",
     "output_type": "stream",
     "text": [
      "Positivo: 0\n",
      "Positivo: 0\n"
     ]
    }
   ],
   "source": [
    "## Hay dos conjuntos de datos, por tanto existen dos etiquetas:\n",
    "labels1=[r\"$\\omega/\\Delta$\",r\"$\\rho_{Local\\quad\\omega}$\",r\"$PES_{local}(\\omega)$\",r\"$IPES_{Local}(\\omega)$\",r\"$\\rho_{cond\\quad\\omega}$\",r\"$PES_{cond}(\\omega)$\",r\"$IPES_{cond}(\\omega)$\",r\"$\\tau(\\omega)$\"]\n",
    "labels2=[r\"$\\omega/\\Delta$\",r\"$\\Gamma \\Delta$\",r\"$Im(G_{loc}(\\omega))$\",r\"$Real(G_{loc}(\\omega))$\",r\"$\\Tau_{loc}$\",r\"$Im(G_{con}(\\omega))$\",r\"$Real(G_{con}(\\omega))$\",r\"$\\Tau_{con}$\"]\n",
    "colors=[\"red\",\"blue\",\"orange\",\"yellow\",\"gray\",\"green\",\"magenta\",\"black\",\"cyan\",\"purple\",\"beige\"]\n",
    "## Aqui una pequeña condición sobre que datos graficar de toda la lista\n",
    "k=bool(input(\"Positivo: \"))\n",
    "## Se define la lista de destino de los datos\n",
    "PES=[[] for i in range(50)]\n",
    "for i in range(6):\n",
    "    if k is True:\n",
    "        #PES[i]=read_file(\"./Complete PES for critic points between 1.0-5.9/PES+T\"+str(round(i*0.5+1,1))+\".dat\",\"\",8)\n",
    "    else:\n",
    "        #PES[i]=read_file(\"./Complete PES for critic points between 1.0-5.9/PES-T\"+str(round(i*0.5+1,1))+\".dat\",\"\",8)"
   ]
  },
  {
   "cell_type": "code",
   "execution_count": null,
   "metadata": {},
   "outputs": [],
   "source": [
    "## Se eligen el conjunto de datos que se quiere graficar:\n",
    "i=int(input(\"Eje x: \"))\n",
    "j=int(input(\"Eje y: \"))\n",
    "## Condición para graficar los datos\n",
    "## basados en su índice de la lista m equivalente a la (Temperatura):\n",
    "def condicion(m):\n",
    "    return (m+1)%2==0\n",
    "#    return x<m<y\n",
    "#    return m%n==0\n",
    "#    return m=n"
   ]
  },
  {
   "cell_type": "code",
   "execution_count": null,
   "metadata": {},
   "outputs": [],
   "source": [
    "## Se grafican los datos de acuerdo a la condición:\n",
    "plt.figure()\n",
    "plt.title(\"Optical properties\")\n",
    "for m in range(50):\n",
    "    if condicion(m):\n",
    "        x=PES[m][i]\n",
    "        y=PES[m][j]\n",
    "        plt.scatter(x,y,color=colors[m],label=r\"$T=$\"+str(round(m*0.5+1,1))+\"$\\Delta$\")\n",
    "plt.xlabel(labels1[i])\n",
    "plt.ylabel(labels1[j])\n",
    "## Cambiar escala\n",
    "#plt.semilogy()\n",
    "## Colocar intervalos\n",
    "#plt.xlim([-41.332,-41.276])\n",
    "plt.legend()\n",
    "plt.show()\n",
    "plt.savefig(labels1[i]+\"vs\"+labels1[j]+\".pdf\")\n"
   ]
  },
  {
   "cell_type": "markdown",
   "metadata": {},
   "source": [
    "#### Análisis de los estados confinados en el continuo\n",
    "\n",
    "La alta eficiencia termoeléctrica en los puntos hallados, puede explicarse a través de un analisis de los polos de la amplitud de transmitancia dados por la función de Green:"
   ]
  },
  {
   "cell_type": "code",
   "execution_count": 11,
   "metadata": {},
   "outputs": [
    {
     "name": "stdout",
     "output_type": "stream",
     "text": [
      "Escriba la temperatura:4.0\n",
      "Escriba los parámetros:E_{QD1}=-41.3 \\Delta E_{QD2}=-10 \\Delta \\; U=20 \\Delta\n"
     ]
    }
   ],
   "source": [
    "##BOUND STATES\n",
    "## Se define el conjunto de datos a examinar:\n",
    "Temperatura=r\"$T=\"+input(\"Escriba la temperatura:\")+\"\\Delta $\"\n",
    "Title=r\"$\"+input(\"Escriba los parámetros:\")+\"$\""
   ]
  },
  {
   "cell_type": "code",
   "execution_count": 12,
   "metadata": {},
   "outputs": [
    {
     "name": "stdout",
     "output_type": "stream",
     "text": [
      "Eje z: 2\n"
     ]
    }
   ],
   "source": [
    "k=int(input(\"Eje z: \"))"
   ]
  },
  {
   "cell_type": "code",
   "execution_count": null,
   "metadata": {},
   "outputs": [],
   "source": [
    "BOUND_STATES=read_file(\"PES-T4.dat\",\"\",8)\n",
    "x=BOUND_STATES[0]\n",
    "y=BOUND_STATES[1]\n",
    "z=BOUND_STATES[k]\n",
    "plt.figure()\n",
    "plt.title(labels2[k]+\" \"+Title)\n",
    "## Cambiar región\n",
    "plt.xlim([-30.,-10])\n",
    "## Cambiar escala\n",
    "#plt.semilogy()\n",
    "plt.scatter(x,y,c=z,cmap='viridis',label=labels2[k])\n",
    "plt.xlabel(labels2[0])\n",
    "plt.ylabel(labels2[1])\n",
    "plt.colorbar(label=labels2[k])\n",
    "plt.legend()\n",
    "plt.show()\n",
    "plt.savefig(labels2[0]+\"vs\"+labels2[1]+\".pdf\")"
   ]
  },
  {
   "cell_type": "code",
   "execution_count": 37,
   "metadata": {},
   "outputs": [],
   "source": [
    "## Script made for make and adjust to the graphs:\n",
    "\n",
    "##The next functions are the coefficients in the universal point:\n",
    "\n",
    "def L0(T):\n",
    "    eps=0.226022\n",
    "    return 1/(T**2*(2**(1/eps)-1)+1)**(eps)\n",
    "\n",
    "def L01(T):\n",
    "    A0=11.945007\n",
    "    A1=0.860404\n",
    "    A2=63.2865\n",
    "    eps=0.674506\n",
    "    return A0*(T**(A1/eps)/((T**2)*(A2**(1/eps)-1)+1))**(eps)\n",
    "\n",
    "def L01paper(T):\n",
    "    #Definición paper:\n",
    "    kb=1\n",
    "    h=1\n",
    "    A=2*np.pi**3*kb**2*0.923/(3*h)*T\n",
    "    Se=0.728\n",
    "    B=(T**2*(10.64**(1/Se)-1)+1)\n",
    "    return A/B**Se\n",
    "\n",
    "def L2(T):\n",
    "    A0=3.29776\n",
    "    A1=43.6995\n",
    "    eps=0.238365\n",
    "    return A0/(T**2*(2**(1/eps)+A1)+1)**(eps)"
   ]
  },
  {
   "cell_type": "code",
   "execution_count": 38,
   "metadata": {},
   "outputs": [],
   "source": [
    "## This cell contains expressions for the roots:\n",
    "def Roots(T,L0,L01,L2):\n",
    "    h=1\n",
    "    d=(np.pi**2)/6\n",
    "    A=(L0-1/h)*(L2-d)+(L01**2)/4\n",
    "    B=1/h*(d-L2)-d*(L0-1/h)\n",
    "    C=d/h-(1/4)*L01**2\n",
    "    D=np.sqrt(B**2-4*A*C)\n",
    "    return [(-B+D)/(2*A),(-B-D)/(2*A)]\n"
   ]
  },
  {
   "cell_type": "code",
   "execution_count": 41,
   "metadata": {},
   "outputs": [
    {
     "name": "stderr",
     "output_type": "stream",
     "text": [
      "<ipython-input-38-aa167dcafccd>:8: RuntimeWarning: invalid value encountered in sqrt\n",
      "  D=np.sqrt(B**2-4*A*C)\n"
     ]
    },
    {
     "data": {
      "text/plain": [
       "<matplotlib.legend.Legend at 0x7fd15ddac460>"
      ]
     },
     "execution_count": 41,
     "metadata": {},
     "output_type": "execute_result"
    },
    {
     "data": {
      "image/png": "[encoded data removed]",
      "text/plain": [
       "<Figure size 576x396 with 1 Axes>"
      ]
     },
     "metadata": {},
     "output_type": "display_data"
    }
   ],
   "source": [
    "#logspace(a,b,esp) https://www.mathworks.com/help/matlab/ref/logspace.html\n",
    "# a -> 10^{a}, b-> 10^{b}, esp=espaciado\n",
    "T=np.logspace(-4,4,1000)\n",
    "#Y=L01(T)\n",
    "#Z=L0(T)\n",
    "Y=[Roots(i,L0(i),L01paper(i),L2(i))[0] for i in T]\n",
    "Y1=[Roots(i,L0(i),L01paper(i),L2(i))[1] for i in T]\n",
    "YY=[[T[i],Y[i],Y1[i]] for i in range(0,len(T))  if np.isnan(Y[i]) == False and np.isnan(Y1[i]) == False]\n",
    "YY=np.array(YY)\n",
    "#print(YY)\n",
    "plt.figure()\n",
    "plt.style.use(\"seaborn\")\n",
    "#plt.scatter(YY[:,0],YY[:,1],color='black',label=\" B \")\n",
    "plt.scatter(YY[:,0],YY[:,2],color='red',label=\" A \")\n",
    "#plt.plot(T,Y,color='red',label=r\"$L_{01}/T$\")\n",
    "#plt.plot(T,Z,color='blue',label=r\"Ajuste $\\quad L_{0}^{S}/T'$\")\n",
    "plt.semilogx()\n",
    "#plt.ylim(-2,2)\n",
    "plt.xlabel(\"T'\")\n",
    "plt.ylabel(r\"$L_{0}^S/(T')$\")\n",
    "#L0\n",
    "#plt.text(1,0.8,r\"$L_{0}^{S}(T')= \\left[{T'}^{2}\\cdot(2^{1 /\\ \\epsilon}-1)+1 \\right]^{- \\epsilon}$\",fontsize=14)\n",
    "#plt.text(5,0.6,r\"$\\epsilon=0.226022$\",fontsize=14)\n",
    "\n",
    "#L01\n",
    "#plt.text(0.3,0.4,r\"$L_{01}^{S}(T')/T'= A_0\\cdot T'^{A_1}\\cdot\\left[{T'}^{2}\\cdot(A_2^{1 /\\ \\epsilon}-1)+1 \\right]^{- \\epsilon}$\",fontsize=12)\n",
    "#plt.text(5,0.3,r\"$\\epsilon=0.728 \\quad A_0=19.07912$\",fontsize=12)\n",
    "#plt.text(5,0.2,r\"$A_1= 1 \\quad A_2=10.64$\",fontsize=12)#A_1= 43.6995\n",
    "#L2\n",
    "#plt.text(0.2,2.5,r\"$L_{2}^{S}(T')/T'^2= A_0\\cdot\\left[{T'}^{2}\\cdot(2^{1 /\\ \\epsilon}+A_1)+1 \\right]^{- \\epsilon}$\",fontsize=14)\n",
    "#plt.text(1.25,2.,r\"$\\epsilon=0.238365 \\quad A_0=3.29776$\",fontsize=14)\n",
    "#plt.text(50,1.5,r\"$A_1= 43.6995$\",fontsize=14)#A_1= 43.6995\n",
    "plt.savefig(\"L0.png\")\n",
    "plt.legend(fontsize=20)\n",
    "plt.legend()"
   ]
  },
  {
   "cell_type": "code",
   "execution_count": null,
   "metadata": {},
   "outputs": [],
   "source": [
    "\n"
   ]
  },
  {
   "cell_type": "code",
   "execution_count": 90,
   "metadata": {},
   "outputs": [
    {
     "ename": "FileNotFoundError",
     "evalue": "[Errno 2] No such file or directory: '2QDS-Universal.dat'",
     "output_type": "error",
     "traceback": [
      "\u001b[0;31m---------------------------------------------------------------------------\u001b[0m",
      "\u001b[0;31mFileNotFoundError\u001b[0m                         Traceback (most recent call last)",
      "\u001b[0;32m<ipython-input-90-3a2cd579ffbc>\u001b[0m in \u001b[0;36m<module>\u001b[0;34m\u001b[0m\n\u001b[0;32m----> 1\u001b[0;31m \u001b[0mF\u001b[0m\u001b[0;34m=\u001b[0m\u001b[0mread_file\u001b[0m\u001b[0;34m(\u001b[0m\u001b[0;34m\"2QDS-Universal.dat\"\u001b[0m\u001b[0;34m,\u001b[0m\u001b[0;34m\"\"\u001b[0m\u001b[0;34m,\u001b[0m\u001b[0;36m13\u001b[0m\u001b[0;34m)\u001b[0m\u001b[0;34m\u001b[0m\u001b[0;34m\u001b[0m\u001b[0m\n\u001b[0m\u001b[1;32m      2\u001b[0m \u001b[0;31m#print(F)\u001b[0m\u001b[0;34m\u001b[0m\u001b[0;34m\u001b[0m\u001b[0;34m\u001b[0m\u001b[0m\n\u001b[1;32m      3\u001b[0m \u001b[0mplt\u001b[0m\u001b[0;34m.\u001b[0m\u001b[0mfigure\u001b[0m\u001b[0;34m(\u001b[0m\u001b[0;34m)\u001b[0m\u001b[0;34m\u001b[0m\u001b[0;34m\u001b[0m\u001b[0m\n\u001b[1;32m      4\u001b[0m \u001b[0mplt\u001b[0m\u001b[0;34m.\u001b[0m\u001b[0mstyle\u001b[0m\u001b[0;34m.\u001b[0m\u001b[0muse\u001b[0m\u001b[0;34m(\u001b[0m\u001b[0;34m\"seaborn\"\u001b[0m\u001b[0;34m)\u001b[0m\u001b[0;34m\u001b[0m\u001b[0;34m\u001b[0m\u001b[0m\n\u001b[1;32m      5\u001b[0m \u001b[0mplt\u001b[0m\u001b[0;34m.\u001b[0m\u001b[0mscatter\u001b[0m\u001b[0;34m(\u001b[0m\u001b[0mF\u001b[0m\u001b[0;34m[\u001b[0m\u001b[0;36m0\u001b[0m\u001b[0;34m]\u001b[0m\u001b[0;34m,\u001b[0m\u001b[0mF\u001b[0m\u001b[0;34m[\u001b[0m\u001b[0;36m12\u001b[0m\u001b[0;34m]\u001b[0m\u001b[0;34m,\u001b[0m\u001b[0mcolor\u001b[0m\u001b[0;34m=\u001b[0m\u001b[0;34m'black'\u001b[0m\u001b[0;34m,\u001b[0m\u001b[0mlabel\u001b[0m\u001b[0;34m=\u001b[0m\u001b[0;34m\" B \"\u001b[0m\u001b[0;34m)\u001b[0m\u001b[0;34m\u001b[0m\u001b[0;34m\u001b[0m\u001b[0m\n",
      "\u001b[0;32m<ipython-input-78-02e796366030>\u001b[0m in \u001b[0;36mread_file\u001b[0;34m(filename, filename2, n)\u001b[0m\n\u001b[1;32m      1\u001b[0m \u001b[0;31m# Se lee el archivo aqui\u001b[0m\u001b[0;34m\u001b[0m\u001b[0;34m\u001b[0m\u001b[0;34m\u001b[0m\u001b[0m\n\u001b[1;32m      2\u001b[0m \u001b[0;32mdef\u001b[0m \u001b[0mread_file\u001b[0m\u001b[0;34m(\u001b[0m\u001b[0mfilename\u001b[0m\u001b[0;34m,\u001b[0m\u001b[0mfilename2\u001b[0m\u001b[0;34m,\u001b[0m\u001b[0mn\u001b[0m\u001b[0;34m)\u001b[0m\u001b[0;34m:\u001b[0m\u001b[0;34m\u001b[0m\u001b[0;34m\u001b[0m\u001b[0m\n\u001b[0;32m----> 3\u001b[0;31m     \u001b[0marchivo\u001b[0m\u001b[0;34m=\u001b[0m\u001b[0mopen\u001b[0m\u001b[0;34m(\u001b[0m\u001b[0mfilename\u001b[0m\u001b[0;34m)\u001b[0m\u001b[0;34m\u001b[0m\u001b[0;34m\u001b[0m\u001b[0m\n\u001b[0m\u001b[1;32m      4\u001b[0m     \u001b[0mData\u001b[0m\u001b[0;34m=\u001b[0m\u001b[0;34m[\u001b[0m\u001b[0;34m[\u001b[0m\u001b[0;34m]\u001b[0m \u001b[0;32mfor\u001b[0m \u001b[0mi\u001b[0m \u001b[0;32min\u001b[0m \u001b[0mrange\u001b[0m\u001b[0;34m(\u001b[0m\u001b[0mn\u001b[0m\u001b[0;34m)\u001b[0m\u001b[0;34m]\u001b[0m\u001b[0;34m\u001b[0m\u001b[0;34m\u001b[0m\u001b[0m\n\u001b[1;32m      5\u001b[0m     \u001b[0mA\u001b[0m\u001b[0;34m=\u001b[0m\u001b[0marchivo\u001b[0m\u001b[0;34m.\u001b[0m\u001b[0mread\u001b[0m\u001b[0;34m(\u001b[0m\u001b[0;34m)\u001b[0m\u001b[0;34m.\u001b[0m\u001b[0msplit\u001b[0m\u001b[0;34m(\u001b[0m\u001b[0;34m\"\\n\"\u001b[0m\u001b[0;34m)\u001b[0m\u001b[0;34m\u001b[0m\u001b[0;34m\u001b[0m\u001b[0m\n",
      "\u001b[0;31mFileNotFoundError\u001b[0m: [Errno 2] No such file or directory: '2QDS-Universal.dat'"
     ]
    }
   ],
   "source": [
    "F=read_file(\"2QDS-Universal.dat\",\"\",13)\n",
    "#print(F)\n",
    "plt.figure()\n",
    "plt.style.use(\"seaborn\")\n",
    "plt.scatter(F[0],F[12],color='black',label=\" B \")\n",
    "#plt.scatter(F[0],F[2],color='red',label=\" A \")\n",
    "plt.semilogx()\n",
    "#plt.ylim(-2,2)\n",
    "plt.xlabel(\"a\")\n",
    "plt.ylabel(\"b\")\n",
    "plt.legend()"
   ]
  },
  {
   "cell_type": "markdown",
   "metadata": {},
   "source": [
    "## Gráfica \n",
    "![Raices](Raices.png)"
   ]
  },
  {
   "cell_type": "markdown",
   "metadata": {},
   "source": [
    "###### PES\n",
    "> Para el cálculo del PES, se debe tener la densidad espectral de estados $A(\\omega)$, la función que describe el espectro de fotoemisión es: <br>\n",
    "\n",
    "\\begin{equation*}\n",
    "I(\\omega,T)=f_T(\\omega)\\cdot A(\\omega,T)\n",
    "\\end{equation*}\n",
    "#### Caracter FANO\n",
    "> La curva de resonancia de **Fano** es debido a la interferencia entre dos amplitudes de scattering: una debido al scattering con un continuo de estados **(background process)** y otra debido a la excitación de un estado discreto **(scattering process)**. La energia de este estado resonante debe yacer en el continuo para que el efecto ocurra, cerca a la energia del estado resonante el espectro varia lentamente para el background process, en tanto que para el scattering process el espectro varia de magnitud y fase rápidamente lo que genera un **perfíl asimétrico**. \n",
    "> Un espectro tiene caracter **Fano** si es de la forma:\n",
    "\\begin{equation}\n",
    "I(\\omega,T) \\propto \\sigma_a \\cdot \\frac{q+\\epsilon}{1+\\epsilon^2}+\\sigma_b\n",
    "\\end{equation}\n",
    "> Donde $\\epsilon=\\frac{E-E_r}{\\Gamma/2}$"
   ]
  },
  {
   "cell_type": "code",
   "execution_count": null,
   "metadata": {},
   "outputs": [],
   "source": []
  },
  {
   "cell_type": "code",
   "execution_count": 71,
   "metadata": {},
   "outputs": [],
   "source": [
    "#Para este cálculo se necesitan las librerias:\n",
    "import numpy as np\n",
    "import matplotlib.pyplot as plt\n",
    "from scipy.optimize import curve_fit\n",
    "\n",
    "# Sea PES y E dos arreglos:\n",
    "PES=[0,1,2,3,4,5,6,7,8,910]\n",
    "E=[0,1,2,3,5,6,7,8,9,10,11,12,13]\n",
    "PES=np.asarray(PES)\n",
    "E=np.asarray(E)"
   ]
  },
  {
   "cell_type": "code",
   "execution_count": 72,
   "metadata": {},
   "outputs": [
    {
     "ename": "IndentationError",
     "evalue": "unexpected indent (<ipython-input-72-652af4390bfa>, line 2)",
     "output_type": "error",
     "traceback": [
      "\u001b[0;36m  File \u001b[0;32m\"<ipython-input-72-652af4390bfa>\"\u001b[0;36m, line \u001b[0;32m2\u001b[0m\n\u001b[0;31m    return a*(q+ep)/(1+ep**2)+b\u001b[0m\n\u001b[0m    ^\u001b[0m\n\u001b[0;31mIndentationError\u001b[0m\u001b[0;31m:\u001b[0m unexpected indent\n"
     ]
    }
   ],
   "source": [
    "# Se define un espectro tipo Fano:\n",
    "    return a*(q+ep)/(1+ep**2)+b\n",
    "PES=I(E,1,11,11,11,11)\n",
    "# Se utiliza la función Curve_fit de scipy:\n",
    "parameters, covariance = curve_fit(I,E,PES)\n",
    "print(parameters,covariance)"
   ]
  },
  {
   "cell_type": "code",
   "execution_count": null,
   "metadata": {},
   "outputs": [],
   "source": [
    "#Despues de ello, es calculado el error estandar para cada parámetro:\n",
    "SE = np.sqrt(np.diag(covariance))\n",
    "print(SE)"
   ]
  },
  {
   "cell_type": "code",
   "execution_count": 40,
   "metadata": {},
   "outputs": [
    {
     "name": "stdout",
     "output_type": "stream",
     "text": [
      "A_0 19.079195583944486\n",
      "A_1 1\n",
      "A_2 10.64\n",
      "Epsilon 0.728\n"
     ]
    }
   ],
   "source": [
    "print(\"A_0\",2*np.pi**3*1**2*0.923/(3))\n",
    "print(\"A_1\",1)\n",
    "print(\"A_2\",10.64)\n",
    "print(\"Epsilon\",0.728)"
   ]
  },
  {
   "cell_type": "code",
   "execution_count": null,
   "metadata": {},
   "outputs": [],
   "source": []
  },
  {
   "cell_type": "code",
   "execution_count": null,
   "metadata": {},
   "outputs": [],
   "source": []
  },
  {
   "cell_type": "code",
   "execution_count": null,
   "metadata": {},
   "outputs": [],
   "source": []
  }
 ],
 "metadata": {
  "kernelspec": {
   "display_name": "Python 3",
   "language": "python",
   "name": "python3"
  },
  "language_info": {
   "codemirror_mode": {
    "name": "ipython",
    "version": 3
   },
   "file_extension": ".py",
   "mimetype": "text/x-python",
   "name": "python",
   "nbconvert_exporter": "python",
   "pygments_lexer": "ipython3",
   "version": "3.8.5"
  }
 },
 "nbformat": 4,
 "nbformat_minor": 4
}
